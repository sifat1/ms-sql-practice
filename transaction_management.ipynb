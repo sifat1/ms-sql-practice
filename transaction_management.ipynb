{
    "cells": [
        {
            "cell_type": "code",
            "execution_count": 2,
            "metadata": {
                "azdata_cell_guid": "204525f4-f764-4c68-b603-997ec2bb3882",
                "language": "sql"
            },
            "outputs": [
                {
                    "data": {
                        "text/html": [
                            "(6 rows affected)"
                        ]
                    },
                    "metadata": {},
                    "output_type": "display_data"
                },
                {
                    "data": {
                        "text/html": [
                            "Total execution time: 00:00:00.009"
                        ]
                    },
                    "metadata": {},
                    "output_type": "display_data"
                },
                {
                    "data": {
                        "application/vnd.dataresource+json": {
                            "data": [
                                {
                                    "name": "worktable",
                                    "transaction_id": "2149",
                                    "transaction_state": "2",
                                    "transaction_type": "2"
                                },
                                {
                                    "name": "worktable",
                                    "transaction_id": "2152",
                                    "transaction_state": "2",
                                    "transaction_type": "2"
                                },
                                {
                                    "name": "worktable",
                                    "transaction_id": "2154",
                                    "transaction_state": "2",
                                    "transaction_type": "2"
                                },
                                {
                                    "name": "worktable",
                                    "transaction_id": "2156",
                                    "transaction_state": "2",
                                    "transaction_type": "2"
                                },
                                {
                                    "name": "worktable",
                                    "transaction_id": "2159",
                                    "transaction_state": "2",
                                    "transaction_type": "2"
                                },
                                {
                                    "name": "worktable",
                                    "transaction_id": "2162",
                                    "transaction_state": "2",
                                    "transaction_type": "2"
                                }
                            ],
                            "schema": {
                                "fields": [
                                    {
                                        "name": "transaction_id"
                                    },
                                    {
                                        "name": "name"
                                    },
                                    {
                                        "name": "transaction_type"
                                    },
                                    {
                                        "name": "transaction_state"
                                    }
                                ]
                            }
                        },
                        "text/html": [
                            "<table>\n",
                            "<tr><th>transaction_id</th><th>name</th><th>transaction_type</th><th>transaction_state</th></tr>\n",
                            "<tr><td>2149</td><td>worktable</td><td>2</td><td>2</td></tr>\n",
                            "<tr><td>2152</td><td>worktable</td><td>2</td><td>2</td></tr>\n",
                            "<tr><td>2154</td><td>worktable</td><td>2</td><td>2</td></tr>\n",
                            "<tr><td>2156</td><td>worktable</td><td>2</td><td>2</td></tr>\n",
                            "<tr><td>2159</td><td>worktable</td><td>2</td><td>2</td></tr>\n",
                            "<tr><td>2162</td><td>worktable</td><td>2</td><td>2</td></tr>\n",
                            "</table>"
                        ]
                    },
                    "execution_count": 2,
                    "metadata": {},
                    "output_type": "execute_result"
                }
            ],
            "source": [
                "select transaction_id , name ,\n",
                "transaction_type, transaction_state\n",
                "from sys.dm_tran_active_transactions"
            ]
        },
        {
            "cell_type": "code",
            "execution_count": 3,
            "metadata": {
                "azdata_cell_guid": "fff8982d-b2f4-40a8-a81c-3410d2ef68a9",
                "language": "sql"
            },
            "outputs": [
                {
                    "ename": "",
                    "evalue": "Msg 2583, Level 16, State 3, Line 1\nAn incorrect number of parameters was given to the DBCC statement.",
                    "output_type": "error",
                    "traceback": []
                },
                {
                    "data": {
                        "text/html": [
                            "Total execution time: 00:00:00.034"
                        ]
                    },
                    "metadata": {},
                    "output_type": "display_data"
                }
            ],
            "source": [
                "DBCC SQLPERF"
            ]
        },
        {
            "cell_type": "code",
            "execution_count": 8,
            "metadata": {
                "azdata_cell_guid": "f1a2c555-0c99-4545-bf68-f1613d931e3e",
                "language": "sql"
            },
            "outputs": [
                {
                    "data": {
                        "text/html": [
                            "(1 row affected)"
                        ]
                    },
                    "metadata": {},
                    "output_type": "display_data"
                },
                {
                    "data": {
                        "text/html": [
                            "Total execution time: 00:00:00.012"
                        ]
                    },
                    "metadata": {},
                    "output_type": "display_data"
                },
                {
                    "data": {
                        "application/vnd.dataresource+json": {
                            "data": [
                                {
                                    "database_name": "HR",
                                    "total_log_size": "7",
                                    "used_log_size": "0"
                                }
                            ],
                            "schema": {
                                "fields": [
                                    {
                                        "name": "database_name"
                                    },
                                    {
                                        "name": "total_log_size"
                                    },
                                    {
                                        "name": "used_log_size"
                                    }
                                ]
                            }
                        },
                        "text/html": [
                            "<table>\n",
                            "<tr><th>database_name</th><th>total_log_size</th><th>used_log_size</th></tr>\n",
                            "<tr><td>HR</td><td>7</td><td>0</td></tr>\n",
                            "</table>"
                        ]
                    },
                    "execution_count": 8,
                    "metadata": {},
                    "output_type": "execute_result"
                }
            ],
            "source": [
                "use HR;\n",
                "select DB_NAME(database_id) as database_name, \n",
                "round(CONVERT(float,total_log_size_in_bytes/1024/1024),2)  as total_log_size, \n",
                "used_log_space_in_bytes/1024/1024 as used_log_size\n",
                "from sys.dm_db_log_space_usage;"
            ]
        },
        {
            "cell_type": "markdown",
            "metadata": {},
            "source": [
                "Deadlock Priority:\n",
                "\n",
                "In Microsoft SQL Server, the \"deadlock priority\" option allows you to specify the priority that SQL Server uses when choosing which process to terminate in case of a deadlock situation. By default, all processes have the same deadlock priority. However, you can adjust the priority of certain processes to increase or decrease the likelihood of them being chosen as the deadlock victim.\n",
                "\n",
                "Here's how you can set the deadlock priority for a session in SQL Server:\n",
                "\n",
                "```sql\n",
                "SET DEADLOCK_PRIORITY { LOW | NORMAL | HIGH | { @deadlock_priority_variable } }\n",
                "```\n",
                "\n",
                "- `LOW`: This sets the session's deadlock priority to the lowest level, making it less likely to be chosen as the deadlock victim.\n",
                "- `NORMAL`: This is the default deadlock priority for all sessions.\n",
                "- `HIGH`: This sets the session's deadlock priority to the highest level, making it more likely to be chosen as the deadlock victim.\n",
                "- `@deadlock_priority_variable`: You can also specify a deadlock priority using a variable.\n",
                "\n",
                "For example, to set the deadlock priority to HIGH for the current session, you can execute:\n",
                "\n",
                "```sql\n",
                "SET DEADLOCK_PRIORITY HIGH;\n",
                "```\n",
                "\n",
                "Or you can use a variable:\n",
                "\n",
                "```sql\n",
                "DECLARE @priority INT = 10;\n",
                "SET DEADLOCK_PRIORITY @priority;\n",
                "```\n",
                "\n",
                "It's important to note that setting a high deadlock priority doesn't guarantee that the session will always be chosen as the deadlock victim, but it increases the likelihood of it being chosen.\n",
                "\n",
                "Remember, adjusting deadlock priorities should be done with caution, as it can impact the overall performance and fairness of the system. It's generally recommended to avoid relying heavily on deadlock priorities and instead focus on optimizing queries and transactions to minimize the occurrence of deadlocks."
            ]
        },
        {
            "cell_type": "markdown",
            "metadata": {},
            "source": [
                "Isolation Level of a Transaction:\n",
                "\n",
                "In Microsoft SQL Server, you can set the isolation level of a transaction to Serializable to ensure the highest level of isolation, preventing phenomena like dirty reads, non-repeatable reads, and phantom reads. Here's how you can set the Serializable isolation level:\n",
                "\n",
                "```sql\n",
                "SET TRANSACTION ISOLATION LEVEL SERIALIZABLE;\n",
                "```\n",
                "\n",
                "Or, you can set it within the context of a transaction:\n",
                "\n",
                "```sql\n",
                "BEGIN TRANSACTION;\n",
                "    SET TRANSACTION ISOLATION LEVEL SERIALIZABLE;\n",
                "    -- Your SQL statements here\n",
                "COMMIT TRANSACTION;\n",
                "```\n",
                "\n",
                "Alternatively, you can specify the isolation level directly in the `BEGIN TRANSACTION` statement:\n",
                "\n",
                "```sql\n",
                "BEGIN TRANSACTION WITH (ISOLATION LEVEL SERIALIZABLE);\n",
                "    -- Your SQL statements here\n",
                "COMMIT TRANSACTION;\n",
                "```\n",
                "\n",
                "Once the isolation level is set to Serializable, SQL Server ensures that transactions are completely isolated from each other, thereby avoiding the anomalies mentioned earlier.\n",
                "\n",
                "However, it's important to note that using Serializable isolation level can impact performance, as it may result in increased locking and blocking in the database. Therefore, it's crucial to consider the specific requirements of your application and the potential trade-offs in performance and data consistency when using Serializable isolation level."
            ]
        }
    ],
    "metadata": {
        "kernelspec": {
            "display_name": "SQL",
            "language": "sql",
            "name": "SQL"
        },
        "language_info": {
            "name": "sql",
            "version": ""
        }
    },
    "nbformat": 4,
    "nbformat_minor": 2
}
