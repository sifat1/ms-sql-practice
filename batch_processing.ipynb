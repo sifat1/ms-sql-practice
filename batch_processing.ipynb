{
 "cells": [
  {
   "cell_type": "code",
   "execution_count": null,
   "metadata": {},
   "outputs": [],
   "source": [
    "CREATE TABLE SalaryAudit (\n",
    "    AuditID INT IDENTITY(1,1),\n",
    "    EmployeeID INT,\n",
    "    OldSalary DECIMAL(10, 2),\n",
    "    NewSalary DECIMAL(10, 2),\n",
    "    ChangeDate DATETIME DEFAULT GETDATE()\n",
    ");\n"
   ]
  },
  {
   "cell_type": "code",
   "execution_count": null,
   "metadata": {},
   "outputs": [],
   "source": [
    "CREATE TABLE Employees (\n",
    "    EmployeeID INT PRIMARY KEY,\n",
    "    FirstName NVARCHAR(50),\n",
    "    LastName NVARCHAR(50),\n",
    "    DepartmentID INT,\n",
    "    Position NVARCHAR(100),\n",
    "    Salary DECIMAL(10, 2)\n",
    ");\n"
   ]
  },
  {
   "cell_type": "code",
   "execution_count": null,
   "metadata": {},
   "outputs": [],
   "source": [
    "INSERT INTO Employees (EmployeeID, FirstName, LastName, DepartmentID, Position, Salary)\n",
    "VALUES\n",
    "    (1, 'John', 'Doe', 101, 'Software Engineer', 70000.00),\n",
    "    (2, 'Jane', 'Smith', 102, 'HR Manager', 80000.00),\n",
    "    (3, 'Michael', 'Johnson', 101, 'Database Administrator', 75000.00),\n",
    "    (4, 'Emily', 'Williams', 103, 'Financial Analyst', 85000.00),\n",
    "    (5, 'David', 'Brown', 102, 'Recruiter', 60000.00);\n"
   ]
  },
  {
   "cell_type": "code",
   "execution_count": null,
   "metadata": {},
   "outputs": [],
   "source": [
    "BEGIN TRANSACTION;\n",
    "\n",
    "-- Update salaries and log changes\n",
    "\n",
    "UPDATE Employees\n",
    "SET Salary = Salary * 1.1\n",
    "OUTPUT INSERTED.EmployeeID, DELETED.Salary, INSERTED.Salary INTO SalaryAudit(EmployeeID, OldSalary, NewSalary)\n",
    "WHERE DepartmentID = @DepartmentID;\n",
    "\n",
    "COMMIT TRANSACTION;\n"
   ]
  }
 ],
 "metadata": {
  "language_info": {
   "name": "python"
  }
 },
 "nbformat": 4,
 "nbformat_minor": 2
}
