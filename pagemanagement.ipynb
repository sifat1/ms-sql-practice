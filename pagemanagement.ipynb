{
    "metadata": {
        "kernelspec": {
            "name": "SQL",
            "display_name": "SQL",
            "language": "sql"
        },
        "language_info": {
            "name": "sql",
            "version": ""
        }
    },
    "nbformat_minor": 2,
    "nbformat": 4,
    "cells": [
        {
            "cell_type": "markdown",
            "source": [
                "## **Row overflow Pages:**\n",
                "\n",
                "  \n",
                "\n",
                "Values of the **VARCHAR(MAX), NVARCHAR(MAX), and VARBINARY(MAX)** columns can\n",
                "\n",
                "be <mark>**_stored outside of the actual data pag_e.**</mark> As you already know, 8KB is the maximum size of\n",
                "\n",
                "a row on a data page, but you can exceed this size limit if you use columns of such large data\n",
                "\n",
                "types. In this case, the system stores the values of these columns in extra pages, which are called\n",
                "\n",
                "row-overflow pages."
            ],
            "metadata": {
                "language": "sql",
                "azdata_cell_guid": "80937eb5-a057-417c-96d3-e2aad5400bf5"
            },
            "attachments": {}
        },
        {
            "cell_type": "code",
            "source": [
                "USE HR;\n",
                "\n",
                "CREATE TABLE mytable\n",
                "(col1 VARCHAR(1000),\n",
                "col2 VARCHAR(3000),\n",
                "col3 VARCHAR(3000),\n",
                "col4 VARCHAR(3000));\n",
                "INSERT INTO mytable\n",
                "SELECT REPLICATE('a', 1000), REPLICATE('b', 3000),\n",
                "REPLICATE('c', 3000), REPLICATE('d', 3000);"
            ],
            "metadata": {
                "language": "sql",
                "azdata_cell_guid": "94e0c691-f39e-4319-a908-b4f8ce014f20"
            },
            "outputs": [
                {
                    "output_type": "display_data",
                    "data": {
                        "text/html": "(1 row affected)"
                    },
                    "metadata": {}
                },
                {
                    "output_type": "display_data",
                    "data": {
                        "text/html": "Total execution time: 00:00:00.039"
                    },
                    "metadata": {}
                }
            ],
            "execution_count": 2
        },
        {
            "cell_type": "code",
            "source": [
                "USE HR;\n",
                "\n",
                "SELECT p.rows, a.type_desc AS page_type, a.total_pages AS pages\n",
                "FROM sys.partitions p JOIN sys.allocation_units a ON\n",
                "p.partition_id = a.container_id\n",
                "WHERE p.object_id = object_id('mytable');"
            ],
            "metadata": {
                "language": "sql",
                "azdata_cell_guid": "63447f58-de31-488a-9c73-8eeff4ba7d8e"
            },
            "outputs": [
                {
                    "output_type": "display_data",
                    "data": {
                        "text/html": "(2 rows affected)"
                    },
                    "metadata": {}
                },
                {
                    "output_type": "display_data",
                    "data": {
                        "text/html": "Total execution time: 00:00:00.137"
                    },
                    "metadata": {}
                },
                {
                    "output_type": "execute_result",
                    "metadata": {},
                    "execution_count": 3,
                    "data": {
                        "application/vnd.dataresource+json": {
                            "schema": {
                                "fields": [
                                    {
                                        "name": "rows"
                                    },
                                    {
                                        "name": "page_type"
                                    },
                                    {
                                        "name": "pages"
                                    }
                                ]
                            },
                            "data": [
                                {
                                    "rows": "1",
                                    "page_type": "IN_ROW_DATA",
                                    "pages": "9"
                                },
                                {
                                    "rows": "1",
                                    "page_type": "ROW_OVERFLOW_DATA",
                                    "pages": "9"
                                }
                            ]
                        },
                        "text/html": [
                            "<table>",
                            "<tr><th>rows</th><th>page_type</th><th>pages</th></tr>",
                            "<tr><td>1</td><td>IN_ROW_DATA</td><td>9</td></tr>",
                            "<tr><td>1</td><td>ROW_OVERFLOW_DATA</td><td>9</td></tr>",
                            "</table>"
                        ]
                    }
                }
            ],
            "execution_count": 3
        },
        {
            "cell_type": "code",
            "source": [
                "USE HR;\n",
                "SELECT allocated_page_page_id AS page, index_id AS ind,\n",
                "page_type_desc AS description\n",
                "FROM sys.dm_db_database_page_allocations\n",
                "(DB_ID('HR'), OBJECT_ID('People'),NULL, NULL, 'DETAILED')\n",
                "WHERE is_allocated = 1;"
            ],
            "metadata": {
                "azdata_cell_guid": "9512ca53-ae17-4583-b4f1-e971e3b9f95a",
                "language": "sql"
            },
            "outputs": [
                {
                    "output_type": "display_data",
                    "data": {
                        "text/html": "(2 rows affected)"
                    },
                    "metadata": {}
                },
                {
                    "output_type": "display_data",
                    "data": {
                        "text/html": "Total execution time: 00:00:00.086"
                    },
                    "metadata": {}
                },
                {
                    "output_type": "execute_result",
                    "metadata": {},
                    "execution_count": 1,
                    "data": {
                        "application/vnd.dataresource+json": {
                            "schema": {
                                "fields": [
                                    {
                                        "name": "page"
                                    },
                                    {
                                        "name": "ind"
                                    },
                                    {
                                        "name": "description"
                                    }
                                ]
                            },
                            "data": [
                                {
                                    "page": "353",
                                    "ind": "1",
                                    "description": "IAM_PAGE"
                                },
                                {
                                    "page": "384",
                                    "ind": "1",
                                    "description": "DATA_PAGE"
                                }
                            ]
                        },
                        "text/html": [
                            "<table>",
                            "<tr><th>page</th><th>ind</th><th>description</th></tr>",
                            "<tr><td>353</td><td>1</td><td>IAM_PAGE</td></tr>",
                            "<tr><td>384</td><td>1</td><td>DATA_PAGE</td></tr>",
                            "</table>"
                        ]
                    }
                }
            ],
            "execution_count": 1
        }
    ]
}