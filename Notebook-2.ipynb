{
    "metadata": {
        "kernelspec": {
            "name": "SQL",
            "display_name": "SQL",
            "language": "sql"
        },
        "language_info": {
            "name": "sql",
            "version": ""
        }
    },
    "nbformat_minor": 2,
    "nbformat": 4,
    "cells": [
        {
            "cell_type": "markdown",
            "source": [
                ""
            ],
            "metadata": {
                "azdata_cell_guid": "14c821ee-dded-4e4e-a512-2e9266bb3423"
            }
        },
        {
            "cell_type": "code",
            "source": [
                "SELECT name, page_verify_option_desc\n",
                "FROM sys.databases;"
            ],
            "metadata": {
                "azdata_cell_guid": "718e641f-ea21-4dd9-a753-8d65d544ee95",
                "language": "sql"
            },
            "outputs": [
                {
                    "output_type": "display_data",
                    "data": {
                        "text/html": "(5 rows affected)"
                    },
                    "metadata": {}
                },
                {
                    "output_type": "display_data",
                    "data": {
                        "text/html": "Total execution time: 00:00:00.026"
                    },
                    "metadata": {}
                },
                {
                    "output_type": "execute_result",
                    "metadata": {},
                    "execution_count": 1,
                    "data": {
                        "application/vnd.dataresource+json": {
                            "schema": {
                                "fields": [
                                    {
                                        "name": "name"
                                    },
                                    {
                                        "name": "page_verify_option_desc"
                                    }
                                ]
                            },
                            "data": [
                                {
                                    "name": "master",
                                    "page_verify_option_desc": "CHECKSUM"
                                },
                                {
                                    "name": "tempdb",
                                    "page_verify_option_desc": "CHECKSUM"
                                },
                                {
                                    "name": "model",
                                    "page_verify_option_desc": "CHECKSUM"
                                },
                                {
                                    "name": "msdb",
                                    "page_verify_option_desc": "CHECKSUM"
                                },
                                {
                                    "name": "HR",
                                    "page_verify_option_desc": "CHECKSUM"
                                }
                            ]
                        },
                        "text/html": [
                            "<table>",
                            "<tr><th>name</th><th>page_verify_option_desc</th></tr>",
                            "<tr><td>master</td><td>CHECKSUM</td></tr>",
                            "<tr><td>tempdb</td><td>CHECKSUM</td></tr>",
                            "<tr><td>model</td><td>CHECKSUM</td></tr>",
                            "<tr><td>msdb</td><td>CHECKSUM</td></tr>",
                            "<tr><td>HR</td><td>CHECKSUM</td></tr>",
                            "</table>"
                        ]
                    }
                }
            ],
            "execution_count": 1
        },
        {
            "cell_type": "code",
            "source": [
                ""
            ],
            "metadata": {
                "language": "sql",
                "azdata_cell_guid": "6c2f6406-bf0b-4286-abf5-2b57d8177187"
            },
            "outputs": [],
            "execution_count": null
        }
    ]
}