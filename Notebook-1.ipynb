{
    "metadata": {
        "kernelspec": {
            "name": "SQL",
            "display_name": "SQL",
            "language": "sql"
        },
        "language_info": {
            "name": "sql",
            "version": ""
        }
    },
    "nbformat_minor": 2,
    "nbformat": 4,
    "cells": [
        {
            "cell_type": "markdown",
            "source": [
                "**LOGIN AND USER MANAGEMENT**"
            ],
            "metadata": {
                "language": "sql",
                "azdata_cell_guid": "4966d745-b620-4587-a179-439e2afee9f6"
            },
            "attachments": {}
        },
        {
            "cell_type": "code",
            "source": [
                "CREATE LOGIN alex \n",
                "with PASSWORD= 'user1@123456';"
            ],
            "metadata": {
                "azdata_cell_guid": "68305232-097b-4b31-a751-091e223ca0d6",
                "language": "sql"
            },
            "outputs": [
                {
                    "output_type": "display_data",
                    "data": {
                        "text/html": "Commands completed successfully."
                    },
                    "metadata": {}
                },
                {
                    "output_type": "display_data",
                    "data": {
                        "text/html": "Total execution time: 00:00:00.006"
                    },
                    "metadata": {}
                }
            ],
            "execution_count": 5
        },
        {
            "cell_type": "markdown",
            "source": [
                "**CREATE USER AND BIND WITH LOGIN**"
            ],
            "metadata": {
                "language": "sql",
                "azdata_cell_guid": "2a5af105-9c18-45e9-b9bb-51b840185bc4"
            },
            "attachments": {}
        },
        {
            "cell_type": "code",
            "source": [
                "SELECT [name] FROM sys.databases\n",
                "GO"
            ],
            "metadata": {
                "language": "sql",
                "azdata_cell_guid": "70fb963d-140d-4c2d-9cf0-23fecaf0af0e"
            },
            "outputs": [
                {
                    "output_type": "display_data",
                    "data": {
                        "text/html": "(5 rows affected)"
                    },
                    "metadata": {}
                },
                {
                    "output_type": "display_data",
                    "data": {
                        "text/html": "Total execution time: 00:00:00.045"
                    },
                    "metadata": {}
                },
                {
                    "output_type": "execute_result",
                    "metadata": {},
                    "execution_count": 6,
                    "data": {
                        "application/vnd.dataresource+json": {
                            "schema": {
                                "fields": [
                                    {
                                        "name": "name"
                                    }
                                ]
                            },
                            "data": [
                                {
                                    "name": "master"
                                },
                                {
                                    "name": "tempdb"
                                },
                                {
                                    "name": "model"
                                },
                                {
                                    "name": "msdb"
                                },
                                {
                                    "name": "HR"
                                }
                            ]
                        },
                        "text/html": [
                            "<table>",
                            "<tr><th>name</th></tr>",
                            "<tr><td>master</td></tr>",
                            "<tr><td>tempdb</td></tr>",
                            "<tr><td>model</td></tr>",
                            "<tr><td>msdb</td></tr>",
                            "<tr><td>HR</td></tr>",
                            "</table>"
                        ]
                    }
                }
            ],
            "execution_count": 6
        },
        {
            "cell_type": "code",
            "source": [
                "USE HR;"
            ],
            "metadata": {
                "language": "sql",
                "azdata_cell_guid": "19789483-e253-458e-a271-8ad68cab4785"
            },
            "outputs": [
                {
                    "output_type": "display_data",
                    "data": {
                        "text/html": "Commands completed successfully."
                    },
                    "metadata": {}
                },
                {
                    "output_type": "display_data",
                    "data": {
                        "text/html": "Total execution time: 00:00:00.005"
                    },
                    "metadata": {}
                }
            ],
            "execution_count": 7
        },
        {
            "cell_type": "code",
            "source": [
                "CREATE USER alex \n",
                "FOR LOGIN alex;"
            ],
            "metadata": {
                "language": "sql",
                "azdata_cell_guid": "378a9fa4-59b4-485a-9677-2dfed13bd217"
            },
            "outputs": [
                {
                    "output_type": "display_data",
                    "data": {
                        "text/html": "Commands completed successfully."
                    },
                    "metadata": {}
                },
                {
                    "output_type": "display_data",
                    "data": {
                        "text/html": "Total execution time: 00:00:00.005"
                    },
                    "metadata": {}
                }
            ],
            "execution_count": 8
        },
        {
            "cell_type": "code",
            "source": [
                "grant SELECT on People to alex;"
            ],
            "metadata": {
                "language": "sql",
                "azdata_cell_guid": "e0fc5b6d-c321-4e0f-a030-9602cca6700d"
            },
            "outputs": [
                {
                    "output_type": "display_data",
                    "data": {
                        "text/html": "Commands completed successfully."
                    },
                    "metadata": {}
                },
                {
                    "output_type": "display_data",
                    "data": {
                        "text/html": "Total execution time: 00:00:00.009"
                    },
                    "metadata": {}
                }
            ],
            "execution_count": 9
        },
        {
            "cell_type": "code",
            "source": [
                ""
            ],
            "metadata": {
                "language": "sql",
                "azdata_cell_guid": "3da6d338-815a-42a4-9a1a-50282f5accc4"
            },
            "outputs": [],
            "execution_count": null
        }
    ]
}