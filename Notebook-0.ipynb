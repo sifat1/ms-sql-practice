{
    "metadata": {
        "kernelspec": {
            "name": "SQL",
            "display_name": "SQL",
            "language": "sql"
        },
        "language_info": {
            "name": "sql",
            "version": ""
        }
    },
    "nbformat_minor": 2,
    "nbformat": 4,
    "cells": [
        {
            "cell_type": "code",
            "source": [
                "CREATE DATABASE HR;"
            ],
            "metadata": {
                "azdata_cell_guid": "a1e36718-630d-4aad-8665-17bf7b140c90",
                "language": "sql"
            },
            "outputs": [
                {
                    "output_type": "error",
                    "evalue": "Msg 1801, Level 16, State 3, Line 1\nDatabase 'HR' already exists. Choose a different database name.",
                    "ename": "",
                    "traceback": []
                },
                {
                    "output_type": "display_data",
                    "data": {
                        "text/html": "Total execution time: 00:00:00"
                    },
                    "metadata": {}
                }
            ],
            "execution_count": 1
        },
        {
            "cell_type": "code",
            "source": [
                "USE HR;"
            ],
            "metadata": {
                "language": "sql",
                "azdata_cell_guid": "a1ca209c-eb05-4eb2-8db5-f42104f80775"
            },
            "outputs": [
                {
                    "output_type": "display_data",
                    "data": {
                        "text/html": "Commands completed successfully."
                    },
                    "metadata": {}
                },
                {
                    "output_type": "display_data",
                    "data": {
                        "text/html": "Total execution time: 00:00:00.017"
                    },
                    "metadata": {}
                }
            ],
            "execution_count": 2
        },
        {
            "cell_type": "code",
            "source": [
                "CREATE TABLE People (\n",
                "  Id int ,\n",
                "  FirstName varchar(50) NOT NULL,\n",
                "  LastName varchar(50) NOT NULL\n",
                "  PRIMARY KEY (Id)\n",
                ");"
            ],
            "metadata": {
                "language": "sql",
                "azdata_cell_guid": "71587751-c577-4da6-af26-5508c43cc54a"
            },
            "outputs": [
                {
                    "output_type": "display_data",
                    "data": {
                        "text/html": "Commands completed successfully."
                    },
                    "metadata": {}
                },
                {
                    "output_type": "display_data",
                    "data": {
                        "text/html": "Total execution time: 00:00:00.017"
                    },
                    "metadata": {}
                }
            ],
            "execution_count": 3
        },
        {
            "cell_type": "code",
            "source": [
                "DROP TABLE People;\n",
                "\n",
                "CREATE TABLE People (\n",
                "  Id int IDENTITY(1,1),\n",
                "  FirstName varchar(50) NOT NULL,\n",
                "  LastName varchar(50) NOT NULL\n",
                "  PRIMARY KEY (Id)\n",
                ");\n",
                ""
            ],
            "metadata": {
                "language": "sql",
                "azdata_cell_guid": "4ce617cd-a860-4177-9bca-61e569f8a5b3"
            },
            "outputs": [
                {
                    "output_type": "display_data",
                    "data": {
                        "text/html": "Commands completed successfully."
                    },
                    "metadata": {}
                },
                {
                    "output_type": "display_data",
                    "data": {
                        "text/html": "Total execution time: 00:00:00.010"
                    },
                    "metadata": {}
                }
            ],
            "execution_count": 12
        },
        {
            "cell_type": "code",
            "source": [
                "INSERT INTO People (FirstName, LastName)\n",
                "  VALUES ('John', 'Doe'),\n",
                "  ('Jane', 'Doe'),\n",
                "  ('Upton', 'Luis'),\n",
                "  ('Dach', 'Keon');"
            ],
            "metadata": {
                "language": "sql",
                "azdata_cell_guid": "6100ee96-7188-4cc7-b77b-a7c8c5250880"
            },
            "outputs": [
                {
                    "output_type": "display_data",
                    "data": {
                        "text/html": "(4 rows affected)"
                    },
                    "metadata": {}
                },
                {
                    "output_type": "display_data",
                    "data": {
                        "text/html": "Total execution time: 00:00:00.020"
                    },
                    "metadata": {}
                }
            ],
            "execution_count": 13
        },
        {
            "cell_type": "code",
            "source": [
                "SELECT * FROM people;"
            ],
            "metadata": {
                "azdata_cell_guid": "a7b50edf-089b-48ea-bd7b-26c736257482",
                "language": "sql"
            },
            "outputs": [
                {
                    "output_type": "display_data",
                    "data": {
                        "text/html": "(4 rows affected)"
                    },
                    "metadata": {}
                },
                {
                    "output_type": "display_data",
                    "data": {
                        "text/html": "Total execution time: 00:00:00.166"
                    },
                    "metadata": {}
                },
                {
                    "output_type": "execute_result",
                    "metadata": {},
                    "execution_count": 14,
                    "data": {
                        "application/vnd.dataresource+json": {
                            "schema": {
                                "fields": [
                                    {
                                        "name": "Id"
                                    },
                                    {
                                        "name": "FirstName"
                                    },
                                    {
                                        "name": "LastName"
                                    }
                                ]
                            },
                            "data": [
                                {
                                    "Id": "1",
                                    "FirstName": "John",
                                    "LastName": "Doe"
                                },
                                {
                                    "Id": "2",
                                    "FirstName": "Jane",
                                    "LastName": "Doe"
                                },
                                {
                                    "Id": "3",
                                    "FirstName": "Upton",
                                    "LastName": "Luis"
                                },
                                {
                                    "Id": "4",
                                    "FirstName": "Dach",
                                    "LastName": "Keon"
                                }
                            ]
                        },
                        "text/html": [
                            "<table>",
                            "<tr><th>Id</th><th>FirstName</th><th>LastName</th></tr>",
                            "<tr><td>1</td><td>John</td><td>Doe</td></tr>",
                            "<tr><td>2</td><td>Jane</td><td>Doe</td></tr>",
                            "<tr><td>3</td><td>Upton</td><td>Luis</td></tr>",
                            "<tr><td>4</td><td>Dach</td><td>Keon</td></tr>",
                            "</table>"
                        ]
                    }
                }
            ],
            "execution_count": 14
        },
        {
            "cell_type": "code",
            "source": [
                "SELECT\n",
                "  name,\n",
                "  recovery_model_desc\n",
                "FROM master.sys.databases\n",
                "WHERE name = 'HR';"
            ],
            "metadata": {
                "language": "sql",
                "azdata_cell_guid": "c6e78610-79d6-4c14-9f42-60208374c25f"
            },
            "outputs": [
                {
                    "output_type": "display_data",
                    "data": {
                        "text/html": "(1 row affected)"
                    },
                    "metadata": {}
                },
                {
                    "output_type": "display_data",
                    "data": {
                        "text/html": "Total execution time: 00:00:00.057"
                    },
                    "metadata": {}
                },
                {
                    "output_type": "execute_result",
                    "metadata": {},
                    "execution_count": 15,
                    "data": {
                        "application/vnd.dataresource+json": {
                            "schema": {
                                "fields": [
                                    {
                                        "name": "name"
                                    },
                                    {
                                        "name": "recovery_model_desc"
                                    }
                                ]
                            },
                            "data": [
                                {
                                    "name": "HR",
                                    "recovery_model_desc": "FULL"
                                }
                            ]
                        },
                        "text/html": [
                            "<table>",
                            "<tr><th>name</th><th>recovery_model_desc</th></tr>",
                            "<tr><td>HR</td><td>FULL</td></tr>",
                            "</table>"
                        ]
                    }
                }
            ],
            "execution_count": 15
        },
        {
            "cell_type": "code",
            "source": [
                "ALTER DATABASE HR SET RECOVERY SIMPLE;"
            ],
            "metadata": {
                "language": "sql",
                "azdata_cell_guid": "4148e245-97b9-4cc9-ac97-b2f904503143"
            },
            "outputs": [
                {
                    "output_type": "display_data",
                    "data": {
                        "text/html": "Commands completed successfully."
                    },
                    "metadata": {}
                },
                {
                    "output_type": "display_data",
                    "data": {
                        "text/html": "Total execution time: 00:00:00.026"
                    },
                    "metadata": {}
                }
            ],
            "execution_count": 16
        },
        {
            "cell_type": "code",
            "source": [
                "SELECT\n",
                "  name,\n",
                "  recovery_model_desc\n",
                "FROM master.sys.databases\n",
                "WHERE name = 'HR';"
            ],
            "metadata": {
                "language": "sql",
                "azdata_cell_guid": "7b1be112-46b2-4d85-83f5-d9378076a4f1"
            },
            "outputs": [
                {
                    "output_type": "display_data",
                    "data": {
                        "text/html": "(1 row affected)"
                    },
                    "metadata": {}
                },
                {
                    "output_type": "display_data",
                    "data": {
                        "text/html": "Total execution time: 00:00:00.116"
                    },
                    "metadata": {}
                },
                {
                    "output_type": "execute_result",
                    "metadata": {},
                    "execution_count": 17,
                    "data": {
                        "application/vnd.dataresource+json": {
                            "schema": {
                                "fields": [
                                    {
                                        "name": "name"
                                    },
                                    {
                                        "name": "recovery_model_desc"
                                    }
                                ]
                            },
                            "data": [
                                {
                                    "name": "HR",
                                    "recovery_model_desc": "SIMPLE"
                                }
                            ]
                        },
                        "text/html": [
                            "<table>",
                            "<tr><th>name</th><th>recovery_model_desc</th></tr>",
                            "<tr><td>HR</td><td>SIMPLE</td></tr>",
                            "</table>"
                        ]
                    }
                }
            ],
            "execution_count": 17
        }
    ]
}